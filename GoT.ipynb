{
 "cells": [
  {
   "cell_type": "markdown",
   "metadata": {},
   "source": [
    "**Game of Thrones data analysis** <br>\n",
    "[data](https://www.kaggle.com/mylesoneill/game-of-thrones#battles.csv)"
   ]
  },
  {
   "cell_type": "code",
   "execution_count": 45,
   "metadata": {},
   "outputs": [
    {
     "data": {
      "text/html": [
       "<div>\n",
       "<style scoped>\n",
       "    .dataframe tbody tr th:only-of-type {\n",
       "        vertical-align: middle;\n",
       "    }\n",
       "\n",
       "    .dataframe tbody tr th {\n",
       "        vertical-align: top;\n",
       "    }\n",
       "\n",
       "    .dataframe thead th {\n",
       "        text-align: right;\n",
       "    }\n",
       "</style>\n",
       "<table border=\"1\" class=\"dataframe\">\n",
       "  <thead>\n",
       "    <tr style=\"text-align: right;\">\n",
       "      <th></th>\n",
       "      <th>Name</th>\n",
       "      <th>Allegiances</th>\n",
       "      <th>Death Year</th>\n",
       "      <th>Book of Death</th>\n",
       "      <th>Death Chapter</th>\n",
       "      <th>Book Intro Chapter</th>\n",
       "      <th>Gender</th>\n",
       "      <th>Nobility</th>\n",
       "      <th>GoT</th>\n",
       "      <th>CoK</th>\n",
       "      <th>SoS</th>\n",
       "      <th>FfC</th>\n",
       "      <th>DwD</th>\n",
       "    </tr>\n",
       "  </thead>\n",
       "  <tbody>\n",
       "    <tr>\n",
       "      <th>1</th>\n",
       "      <td>Aegon Frey (Jinglebell)</td>\n",
       "      <td>None</td>\n",
       "      <td>299.0</td>\n",
       "      <td>3.0</td>\n",
       "      <td>51.0</td>\n",
       "      <td>49.0</td>\n",
       "      <td>1</td>\n",
       "      <td>1</td>\n",
       "      <td>0</td>\n",
       "      <td>0</td>\n",
       "      <td>1</td>\n",
       "      <td>0</td>\n",
       "      <td>0</td>\n",
       "    </tr>\n",
       "    <tr>\n",
       "      <th>3</th>\n",
       "      <td>Adrack Humble</td>\n",
       "      <td>House Greyjoy</td>\n",
       "      <td>300.0</td>\n",
       "      <td>5.0</td>\n",
       "      <td>20.0</td>\n",
       "      <td>20.0</td>\n",
       "      <td>1</td>\n",
       "      <td>1</td>\n",
       "      <td>0</td>\n",
       "      <td>0</td>\n",
       "      <td>0</td>\n",
       "      <td>0</td>\n",
       "      <td>1</td>\n",
       "    </tr>\n",
       "    <tr>\n",
       "      <th>6</th>\n",
       "      <td>Aemon Targaryen (son of Maekar I)</td>\n",
       "      <td>Night's Watch</td>\n",
       "      <td>300.0</td>\n",
       "      <td>4.0</td>\n",
       "      <td>35.0</td>\n",
       "      <td>21.0</td>\n",
       "      <td>1</td>\n",
       "      <td>1</td>\n",
       "      <td>1</td>\n",
       "      <td>0</td>\n",
       "      <td>1</td>\n",
       "      <td>1</td>\n",
       "      <td>0</td>\n",
       "    </tr>\n",
       "    <tr>\n",
       "      <th>10</th>\n",
       "      <td>Aggar</td>\n",
       "      <td>House Greyjoy</td>\n",
       "      <td>299.0</td>\n",
       "      <td>2.0</td>\n",
       "      <td>56.0</td>\n",
       "      <td>50.0</td>\n",
       "      <td>1</td>\n",
       "      <td>0</td>\n",
       "      <td>0</td>\n",
       "      <td>1</td>\n",
       "      <td>0</td>\n",
       "      <td>0</td>\n",
       "      <td>0</td>\n",
       "    </tr>\n",
       "    <tr>\n",
       "      <th>12</th>\n",
       "      <td>Alan of Rosby</td>\n",
       "      <td>Night's Watch</td>\n",
       "      <td>300.0</td>\n",
       "      <td>5.0</td>\n",
       "      <td>4.0</td>\n",
       "      <td>18.0</td>\n",
       "      <td>1</td>\n",
       "      <td>1</td>\n",
       "      <td>0</td>\n",
       "      <td>1</td>\n",
       "      <td>1</td>\n",
       "      <td>0</td>\n",
       "      <td>1</td>\n",
       "    </tr>\n",
       "  </tbody>\n",
       "</table>\n",
       "</div>"
      ],
      "text/plain": [
       "                                 Name    Allegiances  Death Year  \\\n",
       "1             Aegon Frey (Jinglebell)           None       299.0   \n",
       "3                       Adrack Humble  House Greyjoy       300.0   \n",
       "6   Aemon Targaryen (son of Maekar I)  Night's Watch       300.0   \n",
       "10                              Aggar  House Greyjoy       299.0   \n",
       "12                      Alan of Rosby  Night's Watch       300.0   \n",
       "\n",
       "    Book of Death  Death Chapter  Book Intro Chapter  Gender  Nobility  GoT  \\\n",
       "1             3.0           51.0                49.0       1         1    0   \n",
       "3             5.0           20.0                20.0       1         1    0   \n",
       "6             4.0           35.0                21.0       1         1    1   \n",
       "10            2.0           56.0                50.0       1         0    0   \n",
       "12            5.0            4.0                18.0       1         1    0   \n",
       "\n",
       "    CoK  SoS  FfC  DwD  \n",
       "1     0    1    0    0  \n",
       "3     0    0    0    1  \n",
       "6     0    1    1    0  \n",
       "10    1    0    0    0  \n",
       "12    1    1    0    1  "
      ]
     },
     "execution_count": 45,
     "metadata": {},
     "output_type": "execute_result"
    }
   ],
   "source": [
    "import pandas as pd\n",
    "import matplotlib.pyplot as plt\n",
    "import seaborn as sns\n",
    "import statsmodels.api as sm\n",
    "from statsmodels.formula.api import ols\n",
    "import scipy.stats as stats\n",
    "\n",
    "# import data\n",
    "battles = pd.read_csv(\"data/battles.csv\")\n",
    "deaths  = pd.read_csv(\"data/character-deaths.csv\")\n",
    "deaths = deaths.dropna()\n",
    "\n",
    "deaths.head()"
   ]
  },
  {
   "cell_type": "code",
   "execution_count": 57,
   "metadata": {},
   "outputs": [
    {
     "name": "stdout",
     "output_type": "stream",
     "text": [
      "Results of one-way ANOVA:\n",
      "                        df  sum_sq     mean_sq        F    PR(>F)\n",
      "deaths_per_book.index  1.0   136.9  136.900000  0.16955  0.708164\n",
      "Residual               3.0  2422.3  807.433333      NaN       NaN\n",
      "\n",
      "Results of Linear Regression:\n",
      "p-value: 0.708\n",
      "r-value: -0.23\n",
      "\n",
      "Conclusion: No significant correlation! - GoT has not become more violent over time.\n"
     ]
    },
    {
     "name": "stderr",
     "output_type": "stream",
     "text": [
      "/Applications/anaconda3/envs/acc/lib/python3.6/site-packages/matplotlib/figure.py:445: UserWarning: Matplotlib is currently using module://ipykernel.pylab.backend_inline, which is a non-GUI backend, so cannot show the figure.\n",
      "  % get_backend())\n"
     ]
    },
    {
     "data": {
      "image/png": "[encoded data removed]",
      "text/plain": [
       "<Figure size 432x288 with 1 Axes>"
      ]
     },
     "metadata": {
      "needs_background": "light"
     },
     "output_type": "display_data"
    }
   ],
   "source": [
    "deaths_per_book = deaths[\"Book of Death\"].value_counts(sort=False)\n",
    "\n",
    "modell = ols('deaths_per_book ~ deaths_per_book.index', data=deaths_per_book).fit()\n",
    "results = sm.stats.anova_lm(modell, type=1)\n",
    "print('Results of one-way ANOVA:')\n",
    "print(results)\n",
    "print()\n",
    "\n",
    "print('Results of Linear Regression:')\n",
    "slope, intercept, r, p, std = stats.linregress(deaths_per_book.index, deaths_per_book)\n",
    "print('p-value: {:.3f}'.format(p))\n",
    "print('r-value: {:.2f}'.format(r))\n",
    "\n",
    "print()\n",
    "print('Conclusion: No significant correlation! - GoT has not become more violent over time.')\n",
    "\n",
    "fig, axes = plt.subplots()\n",
    "sns.scatterplot(x=deaths_per_book.index, y=deaths_per_book, color='r', marker='x', ax=axes)\n",
    "axes.set(xticks=[1,2,3,4,5], xlabel='Book of death', ylabel='Number of deaths', title='Has GoT become more violent?')\n",
    "axes.plot(deaths_per_book.index, intercept + slope*deaths_per_book.index, color='b')\n",
    "axes.legend(['Regression line', 'Data'])\n",
    "fig.show()"
   ]
  },
  {
   "cell_type": "code",
   "execution_count": null,
   "metadata": {},
   "outputs": [],
   "source": []
  }
 ],
 "metadata": {
  "kernelspec": {
   "display_name": "Python 3",
   "language": "python",
   "name": "python3"
  },
  "language_info": {
   "codemirror_mode": {
    "name": "ipython",
    "version": 3
   },
   "file_extension": ".py",
   "mimetype": "text/x-python",
   "name": "python",
   "nbconvert_exporter": "python",
   "pygments_lexer": "ipython3",
   "version": "3.6.7"
  }
 },
 "nbformat": 4,
 "nbformat_minor": 2
}
